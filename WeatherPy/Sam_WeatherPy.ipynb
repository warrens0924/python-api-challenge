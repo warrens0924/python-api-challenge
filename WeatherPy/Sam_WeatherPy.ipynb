{
 "cells": [
  {
   "cell_type": "markdown",
   "metadata": {},
   "source": [
    "# WeatherPy\n",
    "----\n",
    "\n",
    "#### Note\n",
    "* Instructions have been included for each segment. You do not have to follow them exactly, but they are included to help you think through the steps."
   ]
  },
  {
   "cell_type": "code",
   "execution_count": 1,
   "metadata": {
    "scrolled": true
   },
   "outputs": [],
   "source": [
    "# Dependencies and Setup\n",
    "import matplotlib.pyplot as plt\n",
    "import pandas as pd\n",
    "import numpy as np\n",
    "import requests\n",
    "import time\n",
    "import json\n",
    "from scipy.stats import linregress\n",
    "\n",
    "# Import API key\n",
    "from api_keys import weather_api_k\n",
    "\n",
    "# Incorporated citipy to determine city based on latitude and longitude\n",
    "from citipy import citipy\n",
    "\n",
    "\n",
    "# Output File (CSV)\n",
    "output_data_file = \"output_data/cities.csv\"\n",
    "\n",
    "# Range of latitudes and longitudes\n",
    "lat_range = (-90, 90)\n",
    "lng_range = (-180, 180)\n",
    "\n"
   ]
  },
  {
   "cell_type": "markdown",
   "metadata": {},
   "source": [
    "## Generate Cities List"
   ]
  },
  {
   "cell_type": "code",
   "execution_count": 2,
   "metadata": {},
   "outputs": [
    {
     "data": {
      "text/plain": [
       "624"
      ]
     },
     "execution_count": 2,
     "metadata": {},
     "output_type": "execute_result"
    }
   ],
   "source": [
    "# List for holding lat_lngs and cities\n",
    "lat_lngs = []\n",
    "cities = []\n",
    "\n",
    "# Create a set of random lat and lng combinations\n",
    "lats = np.random.uniform(lat_range[0], lat_range[1], size=1500)\n",
    "lngs = np.random.uniform(lng_range[0], lng_range[1], size=1500)\n",
    "lat_lngs = zip(lats, lngs)\n",
    "\n",
    "# Identify nearest city for each lat, lng combination\n",
    "for lat_lng in lat_lngs:\n",
    "    city = citipy.nearest_city(lat_lng[0], lat_lng[1]).city_name\n",
    "    \n",
    "    # If the city is unique, then add it to a our cities list\n",
    "    if city not in cities:\n",
    "        cities.append(city)\n",
    "\n",
    "# Print the city count to confirm sufficient count\n",
    "len(cities)"
   ]
  },
  {
   "cell_type": "markdown",
   "metadata": {},
   "source": [
    "### Perform API Calls\n",
    "* Perform a weather check on each city using a series of successive API calls.\n",
    "* Include a print log of each city as it'sbeing processed (with the city number and city name).\n"
   ]
  },
  {
   "cell_type": "code",
   "execution_count": 3,
   "metadata": {},
   "outputs": [],
   "source": [
    "url = \"http://api.openweathermap.org/data/2.5/weather?\"\n",
    "units = \"imperial\"\n",
    "query_url = f\"{url}appid={weather_api_k}&units={units}&q=\"\n",
    "    \n"
   ]
  },
  {
   "cell_type": "code",
   "execution_count": 4,
   "metadata": {},
   "outputs": [],
   "source": [
    "city_names = []\n",
    "country = []\n",
    "cloudiness = []\n",
    "date =[]\n",
    "humidity = []\n",
    "lat = []\n",
    "lng = []\n",
    "temp = []\n",
    "wind = []\n",
    "\n"
   ]
  },
  {
   "cell_type": "code",
   "execution_count": 5,
   "metadata": {
    "scrolled": true
   },
   "outputs": [
    {
     "name": "stdout",
     "output_type": "stream",
     "text": [
      "Beginning Weather Data Retrieval\n",
      "--------------------------------\n",
      "Processing cape town - number 1 of 624....\n",
      "Processing hithadhoo - number 2 of 624....\n",
      "Processing freeport - number 3 of 624....\n",
      "Processing qaanaaq - number 4 of 624....\n",
      "Processing talnakh - number 5 of 624....\n",
      "Processing mataura - number 6 of 624....\n",
      "Processing eldikan - number 7 of 624....\n",
      "Not able to process eldikan. Moving to next city.\n",
      "Processing kyra - number 8 of 624....\n",
      "Processing mamburao - number 9 of 624....\n",
      "Processing mount gambier - number 10 of 624....\n",
      "Processing san ramon - number 11 of 624....\n",
      "Processing port alfred - number 12 of 624....\n",
      "Processing puerto ayora - number 13 of 624....\n",
      "Processing mareeba - number 14 of 624....\n",
      "Processing shetpe - number 15 of 624....\n",
      "Processing mar del plata - number 16 of 624....\n",
      "Processing villa vazquez - number 17 of 624....\n",
      "Not able to process villa vazquez. Moving to next city.\n",
      "Processing rikitea - number 18 of 624....\n",
      "Processing bredasdorp - number 19 of 624....\n",
      "Processing cacequi - number 20 of 624....\n",
      "Processing touros - number 21 of 624....\n",
      "Processing barrow - number 22 of 624....\n",
      "Processing papara - number 23 of 624....\n",
      "Processing katsuura - number 24 of 624....\n",
      "Processing longyearbyen - number 25 of 624....\n",
      "Processing vicuna - number 26 of 624....\n",
      "Processing saint-philippe - number 27 of 624....\n",
      "Processing punta arenas - number 28 of 624....\n",
      "Processing kapaa - number 29 of 624....\n",
      "Processing taolanaro - number 30 of 624....\n",
      "Not able to process taolanaro. Moving to next city.\n",
      "Processing busselton - number 31 of 624....\n",
      "Processing khonuu - number 32 of 624....\n",
      "Not able to process khonuu. Moving to next city.\n",
      "Processing qarchak - number 33 of 624....\n",
      "Processing kiama - number 34 of 624....\n",
      "Processing namibe - number 35 of 624....\n",
      "Processing belyy yar - number 36 of 624....\n",
      "Processing bambous virieux - number 37 of 624....\n",
      "Processing palabuhanratu - number 38 of 624....\n",
      "Not able to process palabuhanratu. Moving to next city.\n",
      "Processing bluff - number 39 of 624....\n",
      "Processing padang - number 40 of 624....\n",
      "Processing monrovia - number 41 of 624....\n",
      "Processing thompson - number 42 of 624....\n",
      "Processing phuket - number 43 of 624....\n",
      "Processing bara - number 44 of 624....\n",
      "Processing lorengau - number 45 of 624....\n",
      "Processing albany - number 46 of 624....\n",
      "Processing qasigiannguit - number 47 of 624....\n",
      "Processing tuktoyaktuk - number 48 of 624....\n",
      "Processing araouane - number 49 of 624....\n",
      "Processing arraial do cabo - number 50 of 624....\n",
      "Processing carnarvon - number 51 of 624....\n",
      "Processing silver city - number 52 of 624....\n",
      "Processing ilulissat - number 53 of 624....\n",
      "Processing clyde river - number 54 of 624....\n",
      "Processing pevek - number 55 of 624....\n",
      "Processing amderma - number 56 of 624....\n",
      "Not able to process amderma. Moving to next city.\n",
      "Processing la romana - number 57 of 624....\n",
      "Processing harper - number 58 of 624....\n",
      "Processing neryungri - number 59 of 624....\n",
      "Processing victoria - number 60 of 624....\n",
      "Processing bethel - number 61 of 624....\n",
      "Processing khani - number 62 of 624....\n",
      "Processing koslan - number 63 of 624....\n",
      "Processing tasiilaq - number 64 of 624....\n",
      "Processing palmer - number 65 of 624....\n",
      "Processing vaini - number 66 of 624....\n",
      "Processing olga - number 67 of 624....\n",
      "Processing port hueneme - number 68 of 624....\n",
      "Processing new norfolk - number 69 of 624....\n",
      "Processing manaus - number 70 of 624....\n",
      "Processing tsihombe - number 71 of 624....\n",
      "Not able to process tsihombe. Moving to next city.\n",
      "Processing atuona - number 72 of 624....\n",
      "Processing nadvoitsy - number 73 of 624....\n",
      "Processing livingston - number 74 of 624....\n",
      "Processing umkomaas - number 75 of 624....\n",
      "Processing caleta de carquin - number 76 of 624....\n",
      "Processing mys shmidta - number 77 of 624....\n",
      "Not able to process mys shmidta. Moving to next city.\n",
      "Processing tabiauea - number 78 of 624....\n",
      "Not able to process tabiauea. Moving to next city.\n",
      "Processing cherskiy - number 79 of 624....\n",
      "Processing lavras - number 80 of 624....\n",
      "Processing arman - number 81 of 624....\n",
      "Processing tautira - number 82 of 624....\n",
      "Processing hilo - number 83 of 624....\n",
      "Processing torbay - number 84 of 624....\n",
      "Processing ushuaia - number 85 of 624....\n",
      "Processing vila velha - number 86 of 624....\n",
      "Processing la ronge - number 87 of 624....\n",
      "Processing illoqqortoormiut - number 88 of 624....\n",
      "Not able to process illoqqortoormiut. Moving to next city.\n",
      "Processing dikson - number 89 of 624....\n",
      "Processing la rioja - number 90 of 624....\n",
      "Processing faanui - number 91 of 624....\n",
      "Processing grindavik - number 92 of 624....\n",
      "Processing hasaki - number 93 of 624....\n",
      "Processing coronado - number 94 of 624....\n",
      "Processing jahangirpur - number 95 of 624....\n",
      "Processing jamestown - number 96 of 624....\n",
      "Processing grand river south east - number 97 of 624....\n",
      "Not able to process grand river south east. Moving to next city.\n",
      "Processing dangriga - number 98 of 624....\n",
      "Processing pallisa - number 99 of 624....\n",
      "Processing menzelinsk - number 100 of 624....\n",
      "Processing esperance - number 101 of 624....\n",
      "Processing mossendjo - number 102 of 624....\n",
      "Processing mehriz - number 103 of 624....\n",
      "Processing broken hill - number 104 of 624....\n",
      "Processing tobermory - number 105 of 624....\n",
      "Processing nikolskoye - number 106 of 624....\n",
      "Processing dragor - number 107 of 624....\n",
      "Processing toumodi - number 108 of 624....\n",
      "Processing pisco - number 109 of 624....\n",
      "Processing mahebourg - number 110 of 624....\n",
      "Processing cururupu - number 111 of 624....\n",
      "Processing salta - number 112 of 624....\n",
      "Processing vardo - number 113 of 624....\n",
      "Processing snasa - number 114 of 624....\n",
      "Processing marzuq - number 115 of 624....\n",
      "Processing sinnamary - number 116 of 624....\n",
      "Processing maragogi - number 117 of 624....\n",
      "Processing yuzhno-yeniseyskiy - number 118 of 624....\n",
      "Not able to process yuzhno-yeniseyskiy. Moving to next city.\n",
      "Processing kudahuvadhoo - number 119 of 624....\n",
      "Processing aksarka - number 120 of 624....\n",
      "Processing tsentralnyy - number 121 of 624....\n",
      "Not able to process tsentralnyy. Moving to next city.\n",
      "Processing wajima - number 122 of 624....\n",
      "Processing hobart - number 123 of 624....\n",
      "Processing palauig - number 124 of 624....\n",
      "Processing sao joao da barra - number 125 of 624....\n",
      "Processing maningrida - number 126 of 624....\n",
      "Processing aklavik - number 127 of 624....\n",
      "Processing kamaishi - number 128 of 624....\n",
      "Processing mount vernon - number 129 of 624....\n",
      "Processing goianesia - number 130 of 624....\n",
      "Processing asau - number 131 of 624....\n",
      "Processing sumbawa - number 132 of 624....\n",
      "Not able to process sumbawa. Moving to next city.\n",
      "Processing hami - number 133 of 624....\n",
      "Processing port hardy - number 134 of 624....\n",
      "Processing belushya guba - number 135 of 624....\n",
      "Not able to process belushya guba. Moving to next city.\n",
      "Processing karawang - number 136 of 624....\n",
      "Processing khatanga - number 137 of 624....\n",
      "Processing maitum - number 138 of 624....\n",
      "Processing castro - number 139 of 624....\n",
      "Processing gigmoto - number 140 of 624....\n",
      "Processing nizhneyansk - number 141 of 624....\n",
      "Not able to process nizhneyansk. Moving to next city.\n",
      "Processing moerai - number 142 of 624....\n",
      "Processing nemuro - number 143 of 624....\n",
      "Processing ambulu - number 144 of 624....\n",
      "Processing kendallville - number 145 of 624....\n",
      "Processing yen bai - number 146 of 624....\n",
      "Processing la fria - number 147 of 624....\n",
      "Processing kavieng - number 148 of 624....\n",
      "Processing tiksi - number 149 of 624....\n",
      "Processing salair - number 150 of 624....\n",
      "Processing tacuarembo - number 151 of 624....\n",
      "Processing saint-raymond - number 152 of 624....\n",
      "Processing alyangula - number 153 of 624....\n",
      "Processing pangnirtung - number 154 of 624....\n",
      "Processing moroni - number 155 of 624....\n",
      "Processing margate - number 156 of 624....\n",
      "Processing jinchang - number 157 of 624....\n",
      "Processing saskylakh - number 158 of 624....\n",
      "Processing strezhevoy - number 159 of 624....\n",
      "Processing asfi - number 160 of 624....\n",
      "Processing salinopolis - number 161 of 624....\n",
      "Processing ahipara - number 162 of 624....\n",
      "Processing east london - number 163 of 624....\n",
      "Processing kodiak - number 164 of 624....\n",
      "Processing korla - number 165 of 624....\n",
      "Processing cantanhede - number 166 of 624....\n",
      "Processing severo-kurilsk - number 167 of 624....\n"
     ]
    },
    {
     "name": "stdout",
     "output_type": "stream",
     "text": [
      "Processing soma - number 168 of 624....\n",
      "Processing saldanha - number 169 of 624....\n",
      "Processing port macquarie - number 170 of 624....\n",
      "Processing victor harbor - number 171 of 624....\n",
      "Processing kavaratti - number 172 of 624....\n",
      "Processing angoche - number 173 of 624....\n",
      "Processing seoul - number 174 of 624....\n",
      "Processing kruisfontein - number 175 of 624....\n",
      "Processing butaritari - number 176 of 624....\n",
      "Processing high rock - number 177 of 624....\n",
      "Processing suruc - number 178 of 624....\n",
      "Processing saint-joseph - number 179 of 624....\n",
      "Processing tazovskiy - number 180 of 624....\n",
      "Processing umzimvubu - number 181 of 624....\n",
      "Not able to process umzimvubu. Moving to next city.\n",
      "Processing teya - number 182 of 624....\n",
      "Processing husavik - number 183 of 624....\n",
      "Processing alice springs - number 184 of 624....\n",
      "Processing port elizabeth - number 185 of 624....\n",
      "Processing la victoria - number 186 of 624....\n",
      "Processing mirnyy - number 187 of 624....\n",
      "Processing mouzakion - number 188 of 624....\n",
      "Not able to process mouzakion. Moving to next city.\n",
      "Processing los llanos de aridane - number 189 of 624....\n",
      "Processing tuy hoa - number 190 of 624....\n",
      "Processing samusu - number 191 of 624....\n",
      "Not able to process samusu. Moving to next city.\n",
      "Processing avarua - number 192 of 624....\n",
      "Processing guerrero negro - number 193 of 624....\n",
      "Processing mlandizi - number 194 of 624....\n",
      "Processing kasra - number 195 of 624....\n",
      "Not able to process kasra. Moving to next city.\n",
      "Processing hermanus - number 196 of 624....\n",
      "Processing mocuba - number 197 of 624....\n",
      "Processing campbell river - number 198 of 624....\n",
      "Processing attawapiskat - number 199 of 624....\n",
      "Not able to process attawapiskat. Moving to next city.\n",
      "Processing bukachacha - number 200 of 624....\n",
      "Processing kleive - number 201 of 624....\n",
      "Processing gamba - number 202 of 624....\n",
      "Processing jardim - number 203 of 624....\n",
      "Processing faranah - number 204 of 624....\n",
      "Processing menongue - number 205 of 624....\n",
      "Processing norman wells - number 206 of 624....\n",
      "Processing coquimbo - number 207 of 624....\n",
      "Processing beringovskiy - number 208 of 624....\n",
      "Processing kushima - number 209 of 624....\n",
      "Processing palora - number 210 of 624....\n",
      "Processing buala - number 211 of 624....\n",
      "Processing price - number 212 of 624....\n",
      "Processing mugur-aksy - number 213 of 624....\n",
      "Processing morros - number 214 of 624....\n",
      "Processing kailua - number 215 of 624....\n",
      "Processing acarau - number 216 of 624....\n",
      "Processing ust-maya - number 217 of 624....\n",
      "Processing saleaula - number 218 of 624....\n",
      "Not able to process saleaula. Moving to next city.\n",
      "Processing hattiesburg - number 219 of 624....\n",
      "Processing pacific grove - number 220 of 624....\n",
      "Processing barra do bugres - number 221 of 624....\n",
      "Processing waipawa - number 222 of 624....\n",
      "Processing cabo san lucas - number 223 of 624....\n",
      "Processing grand gaube - number 224 of 624....\n",
      "Processing cedar city - number 225 of 624....\n",
      "Processing yellowknife - number 226 of 624....\n",
      "Processing ponta do sol - number 227 of 624....\n",
      "Processing upernavik - number 228 of 624....\n",
      "Processing umea - number 229 of 624....\n",
      "Processing omboue - number 230 of 624....\n",
      "Processing shenjiamen - number 231 of 624....\n",
      "Processing abu dhabi - number 232 of 624....\n",
      "Processing san patricio - number 233 of 624....\n",
      "Processing villeta - number 234 of 624....\n",
      "Processing yar-sale - number 235 of 624....\n",
      "Processing olafsvik - number 236 of 624....\n",
      "Processing peniche - number 237 of 624....\n",
      "Processing svetlogorsk - number 238 of 624....\n",
      "Processing kendal - number 239 of 624....\n",
      "Processing barentsburg - number 240 of 624....\n",
      "Not able to process barentsburg. Moving to next city.\n",
      "Processing novovelichkovskaya - number 241 of 624....\n",
      "Processing port moresby - number 242 of 624....\n",
      "Processing georgetown - number 243 of 624....\n",
      "Processing saint-pierre - number 244 of 624....\n",
      "Processing natal - number 245 of 624....\n",
      "Processing belaya gora - number 246 of 624....\n",
      "Processing christchurch - number 247 of 624....\n",
      "Processing pangai - number 248 of 624....\n",
      "Processing utiroa - number 249 of 624....\n",
      "Not able to process utiroa. Moving to next city.\n",
      "Processing provideniya - number 250 of 624....\n",
      "Processing saundatti yellamma - number 251 of 624....\n",
      "Not able to process saundatti yellamma. Moving to next city.\n",
      "Processing mogadishu - number 252 of 624....\n",
      "Processing vaitupu - number 253 of 624....\n",
      "Not able to process vaitupu. Moving to next city.\n",
      "Processing meulaboh - number 254 of 624....\n",
      "Processing igarape-acu - number 255 of 624....\n",
      "Not able to process igarape-acu. Moving to next city.\n",
      "Processing hit - number 256 of 624....\n",
      "Processing taksimo - number 257 of 624....\n",
      "Processing okhotsk - number 258 of 624....\n",
      "Processing mehamn - number 259 of 624....\n",
      "Processing ouango - number 260 of 624....\n",
      "Processing cidreira - number 261 of 624....\n",
      "Processing nazareno - number 262 of 624....\n",
      "Processing oksfjord - number 263 of 624....\n",
      "Processing pahrump - number 264 of 624....\n",
      "Processing nguiu - number 265 of 624....\n",
      "Not able to process nguiu. Moving to next city.\n",
      "Processing constitucion - number 266 of 624....\n",
      "Processing coihaique - number 267 of 624....\n",
      "Processing ulladulla - number 268 of 624....\n",
      "Processing sitka - number 269 of 624....\n",
      "Processing saint-augustin - number 270 of 624....\n",
      "Processing ostroleka - number 271 of 624....\n",
      "Processing nanortalik - number 272 of 624....\n",
      "Processing wencheng - number 273 of 624....\n",
      "Processing athens - number 274 of 624....\n",
      "Processing chuy - number 275 of 624....\n",
      "Processing karaul - number 276 of 624....\n",
      "Not able to process karaul. Moving to next city.\n",
      "Processing mullaitivu - number 277 of 624....\n",
      "Not able to process mullaitivu. Moving to next city.\n",
      "Processing kaitangata - number 278 of 624....\n",
      "Processing ulaanbaatar - number 279 of 624....\n",
      "Processing lebu - number 280 of 624....\n",
      "Processing honningsvag - number 281 of 624....\n",
      "Processing kahului - number 282 of 624....\n",
      "Processing sal rei - number 283 of 624....\n",
      "Processing scottsbluff - number 284 of 624....\n",
      "Processing yulara - number 285 of 624....\n",
      "Processing prachuap khiri khan - number 286 of 624....\n",
      "Processing lavrentiya - number 287 of 624....\n",
      "Processing ugoofaaru - number 288 of 624....\n",
      "Processing shimoda - number 289 of 624....\n",
      "Processing nazarovo - number 290 of 624....\n",
      "Processing san quintin - number 291 of 624....\n",
      "Processing purranque - number 292 of 624....\n",
      "Processing linjiang - number 293 of 624....\n",
      "Processing meyrin - number 294 of 624....\n",
      "Processing dzilam gonzalez - number 295 of 624....\n",
      "Processing kotido - number 296 of 624....\n",
      "Processing ribeira grande - number 297 of 624....\n",
      "Processing san vicente - number 298 of 624....\n",
      "Processing tuatapere - number 299 of 624....\n",
      "Processing kemijarvi - number 300 of 624....\n",
      "Processing garden city - number 301 of 624....\n",
      "Processing cockburn town - number 302 of 624....\n",
      "Processing te anau - number 303 of 624....\n",
      "Processing andselv - number 304 of 624....\n",
      "Not able to process andselv. Moving to next city.\n",
      "Processing pandhana - number 305 of 624....\n",
      "Processing malanje - number 306 of 624....\n",
      "Processing ancud - number 307 of 624....\n",
      "Processing kihei - number 308 of 624....\n",
      "Processing cambridge - number 309 of 624....\n",
      "Processing half moon bay - number 310 of 624....\n",
      "Processing popondetta - number 311 of 624....\n",
      "Processing iroquois falls - number 312 of 624....\n",
      "Processing tahta - number 313 of 624....\n",
      "Processing dingle - number 314 of 624....\n",
      "Processing deputatskiy - number 315 of 624....\n",
      "Processing san policarpo - number 316 of 624....\n",
      "Processing kerki - number 317 of 624....\n",
      "Not able to process kerki. Moving to next city.\n",
      "Processing baruun-urt - number 318 of 624....\n",
      "Processing mahibadhoo - number 319 of 624....\n",
      "Processing salalah - number 320 of 624....\n",
      "Processing cody - number 321 of 624....\n",
      "Processing urumqi - number 322 of 624....\n",
      "Processing kysyl-syr - number 323 of 624....\n",
      "Processing emba - number 324 of 624....\n",
      "Processing grand-santi - number 325 of 624....\n",
      "Processing stowe - number 326 of 624....\n",
      "Processing flin flon - number 327 of 624....\n",
      "Processing richards bay - number 328 of 624....\n",
      "Processing odweyne - number 329 of 624....\n",
      "Processing methoni - number 330 of 624....\n",
      "Processing luang prabang - number 331 of 624....\n",
      "Processing juegang - number 332 of 624....\n"
     ]
    },
    {
     "name": "stdout",
     "output_type": "stream",
     "text": [
      "Processing karamea - number 333 of 624....\n",
      "Not able to process karamea. Moving to next city.\n",
      "Processing hofn - number 334 of 624....\n",
      "Processing tornio - number 335 of 624....\n",
      "Processing abu kamal - number 336 of 624....\n",
      "Processing ahuimanu - number 337 of 624....\n",
      "Processing elizabethtown - number 338 of 624....\n",
      "Processing takoradi - number 339 of 624....\n",
      "Processing tabas - number 340 of 624....\n",
      "Processing havelock - number 341 of 624....\n",
      "Processing oum hadjer - number 342 of 624....\n",
      "Processing ambon - number 343 of 624....\n",
      "Processing havre-saint-pierre - number 344 of 624....\n",
      "Processing sao filipe - number 345 of 624....\n",
      "Processing rio de janeiro - number 346 of 624....\n",
      "Processing dunedin - number 347 of 624....\n",
      "Processing chaska - number 348 of 624....\n",
      "Processing broome - number 349 of 624....\n",
      "Processing miandrivazo - number 350 of 624....\n",
      "Processing west plains - number 351 of 624....\n",
      "Processing saint-georges - number 352 of 624....\n",
      "Processing waingapu - number 353 of 624....\n",
      "Processing kaduna - number 354 of 624....\n",
      "Processing fairbanks - number 355 of 624....\n",
      "Processing rio pardo de minas - number 356 of 624....\n",
      "Processing corumba - number 357 of 624....\n",
      "Processing geraldton - number 358 of 624....\n",
      "Processing macapa - number 359 of 624....\n",
      "Processing shiraoi - number 360 of 624....\n",
      "Processing lima - number 361 of 624....\n",
      "Processing caravelas - number 362 of 624....\n",
      "Processing katha - number 363 of 624....\n",
      "Not able to process katha. Moving to next city.\n",
      "Processing antofagasta - number 364 of 624....\n",
      "Processing muisne - number 365 of 624....\n",
      "Processing lusambo - number 366 of 624....\n",
      "Processing kutum - number 367 of 624....\n",
      "Processing buta - number 368 of 624....\n",
      "Processing kampong cham - number 369 of 624....\n",
      "Processing sorgun - number 370 of 624....\n",
      "Processing arlit - number 371 of 624....\n",
      "Processing aswan - number 372 of 624....\n",
      "Processing saint-leu - number 373 of 624....\n",
      "Processing laguna - number 374 of 624....\n",
      "Processing nichinan - number 375 of 624....\n",
      "Processing koping - number 376 of 624....\n",
      "Processing valley city - number 377 of 624....\n",
      "Processing awjilah - number 378 of 624....\n",
      "Processing mayo - number 379 of 624....\n",
      "Processing revda - number 380 of 624....\n",
      "Processing shelburne - number 381 of 624....\n",
      "Processing aasiaat - number 382 of 624....\n",
      "Processing santa eulalia del rio - number 383 of 624....\n",
      "Not able to process santa eulalia del rio. Moving to next city.\n",
      "Processing klichka - number 384 of 624....\n",
      "Processing kaeo - number 385 of 624....\n",
      "Processing gat - number 386 of 624....\n",
      "Processing saint george - number 387 of 624....\n",
      "Processing tinjah - number 388 of 624....\n",
      "Not able to process tinjah. Moving to next city.\n",
      "Processing tidore - number 389 of 624....\n",
      "Not able to process tidore. Moving to next city.\n",
      "Processing lieksa - number 390 of 624....\n",
      "Processing yenagoa - number 391 of 624....\n",
      "Processing spornoye - number 392 of 624....\n",
      "Processing bengkulu - number 393 of 624....\n",
      "Processing moa - number 394 of 624....\n",
      "Processing manggar - number 395 of 624....\n",
      "Processing cherdyn - number 396 of 624....\n",
      "Processing jalu - number 397 of 624....\n",
      "Processing walvis bay - number 398 of 624....\n",
      "Processing izhma - number 399 of 624....\n",
      "Processing lavumisa - number 400 of 624....\n",
      "Processing agadez - number 401 of 624....\n",
      "Processing waimana - number 402 of 624....\n",
      "Processing hunza - number 403 of 624....\n",
      "Not able to process hunza. Moving to next city.\n",
      "Processing linares - number 404 of 624....\n",
      "Processing makarov - number 405 of 624....\n",
      "Processing chicama - number 406 of 624....\n",
      "Processing juneau - number 407 of 624....\n",
      "Processing cayenne - number 408 of 624....\n",
      "Processing lagoa - number 409 of 624....\n",
      "Processing kitui - number 410 of 624....\n",
      "Processing joensuu - number 411 of 624....\n",
      "Processing lompoc - number 412 of 624....\n",
      "Processing ceres - number 413 of 624....\n",
      "Processing qaqortoq - number 414 of 624....\n",
      "Processing warqla - number 415 of 624....\n",
      "Not able to process warqla. Moving to next city.\n",
      "Processing inuvik - number 416 of 624....\n",
      "Processing chokurdakh - number 417 of 624....\n",
      "Processing vao - number 418 of 624....\n",
      "Processing wad rawah - number 419 of 624....\n",
      "Processing montlucon - number 420 of 624....\n",
      "Processing yashkul - number 421 of 624....\n",
      "Processing hailun - number 422 of 624....\n",
      "Processing yumen - number 423 of 624....\n",
      "Processing crotone - number 424 of 624....\n",
      "Processing ambilobe - number 425 of 624....\n",
      "Processing teguldet - number 426 of 624....\n",
      "Processing ostrovnoy - number 427 of 624....\n",
      "Processing gubkinskiy - number 428 of 624....\n",
      "Processing comodoro rivadavia - number 429 of 624....\n",
      "Processing boone - number 430 of 624....\n",
      "Processing mandera - number 431 of 624....\n",
      "Processing dali - number 432 of 624....\n",
      "Processing kenai - number 433 of 624....\n",
      "Processing port lincoln - number 434 of 624....\n",
      "Processing hovd - number 435 of 624....\n",
      "Processing kazalinsk - number 436 of 624....\n",
      "Not able to process kazalinsk. Moving to next city.\n",
      "Processing emerald - number 437 of 624....\n",
      "Processing zelenoborsk - number 438 of 624....\n",
      "Processing cordoba - number 439 of 624....\n",
      "Processing airai - number 440 of 624....\n",
      "Processing cascavel - number 441 of 624....\n",
      "Processing marsa matruh - number 442 of 624....\n",
      "Processing palu - number 443 of 624....\n",
      "Processing dubai - number 444 of 624....\n",
      "Processing makakilo city - number 445 of 624....\n",
      "Processing diego de almagro - number 446 of 624....\n",
      "Processing pingliang - number 447 of 624....\n",
      "Processing leningradskiy - number 448 of 624....\n",
      "Processing panaba - number 449 of 624....\n",
      "Processing sentyabrskiy - number 450 of 624....\n",
      "Not able to process sentyabrskiy. Moving to next city.\n",
      "Processing sterling - number 451 of 624....\n",
      "Processing inongo - number 452 of 624....\n",
      "Processing nhulunbuy - number 453 of 624....\n",
      "Processing utiel - number 454 of 624....\n",
      "Processing ketchikan - number 455 of 624....\n",
      "Processing udachnyy - number 456 of 624....\n",
      "Processing luanshya - number 457 of 624....\n",
      "Processing mahajanga - number 458 of 624....\n",
      "Processing alofi - number 459 of 624....\n",
      "Processing samarai - number 460 of 624....\n",
      "Processing san carlos del zulia - number 461 of 624....\n",
      "Processing montes claros - number 462 of 624....\n",
      "Processing tawkar - number 463 of 624....\n",
      "Not able to process tawkar. Moving to next city.\n",
      "Processing el alto - number 464 of 624....\n",
      "Processing beausejour - number 465 of 624....\n",
      "Processing kamenka - number 466 of 624....\n",
      "Processing muli - number 467 of 624....\n",
      "Processing davila - number 468 of 624....\n",
      "Processing kununurra - number 469 of 624....\n",
      "Processing aitape - number 470 of 624....\n",
      "Processing qafsah - number 471 of 624....\n",
      "Not able to process qafsah. Moving to next city.\n",
      "Processing turukhansk - number 472 of 624....\n",
      "Processing fare - number 473 of 624....\n",
      "Processing grand falls - number 474 of 624....\n",
      "Processing gwadar - number 475 of 624....\n",
      "Processing abay - number 476 of 624....\n",
      "Processing umm durman - number 477 of 624....\n",
      "Not able to process umm durman. Moving to next city.\n",
      "Processing bakchar - number 478 of 624....\n",
      "Processing moron - number 479 of 624....\n",
      "Processing hanyang - number 480 of 624....\n",
      "Processing west melbourne - number 481 of 624....\n",
      "Processing rumuruti - number 482 of 624....\n",
      "Processing vega de alatorre - number 483 of 624....\n",
      "Processing komsomolskiy - number 484 of 624....\n",
      "Processing bandarbeyla - number 485 of 624....\n",
      "Processing buraydah - number 486 of 624....\n",
      "Processing klin - number 487 of 624....\n",
      "Processing twin falls - number 488 of 624....\n",
      "Processing babu - number 489 of 624....\n",
      "Processing envira - number 490 of 624....\n",
      "Processing wenling - number 491 of 624....\n",
      "Processing evensk - number 492 of 624....\n",
      "Processing iqaluit - number 493 of 624....\n",
      "Processing hinesburg - number 494 of 624....\n",
      "Processing jibuti - number 495 of 624....\n",
      "Processing ixtapa - number 496 of 624....\n",
      "Processing cabedelo - number 497 of 624....\n",
      "Processing lufilufi - number 498 of 624....\n",
      "Processing malwan - number 499 of 624....\n",
      "Not able to process malwan. Moving to next city.\n",
      "Processing sabha - number 500 of 624....\n",
      "Processing panguipulli - number 501 of 624....\n",
      "Processing kuche - number 502 of 624....\n",
      "Not able to process kuche. Moving to next city.\n",
      "Processing inverell - number 503 of 624....\n"
     ]
    },
    {
     "name": "stdout",
     "output_type": "stream",
     "text": [
      "Processing chipinge - number 504 of 624....\n",
      "Processing saquarema - number 505 of 624....\n",
      "Processing morden - number 506 of 624....\n",
      "Processing boke - number 507 of 624....\n",
      "Processing roma - number 508 of 624....\n",
      "Processing sept-iles - number 509 of 624....\n",
      "Processing souillac - number 510 of 624....\n",
      "Processing maunabo - number 511 of 624....\n",
      "Processing awbari - number 512 of 624....\n",
      "Processing sabang - number 513 of 624....\n",
      "Processing honiara - number 514 of 624....\n",
      "Processing petatlan - number 515 of 624....\n",
      "Processing fairhope - number 516 of 624....\n",
      "Processing coari - number 517 of 624....\n",
      "Processing shahreza - number 518 of 624....\n",
      "Processing maltahohe - number 519 of 624....\n",
      "Processing sorvag - number 520 of 624....\n",
      "Not able to process sorvag. Moving to next city.\n",
      "Processing verkhnevilyuysk - number 521 of 624....\n",
      "Processing sorong - number 522 of 624....\n",
      "Processing wanaka - number 523 of 624....\n",
      "Processing sao joaquim - number 524 of 624....\n",
      "Processing oros - number 525 of 624....\n",
      "Processing tual - number 526 of 624....\n",
      "Processing stokmarknes - number 527 of 624....\n",
      "Processing vallenar - number 528 of 624....\n",
      "Processing bur gabo - number 529 of 624....\n",
      "Not able to process bur gabo. Moving to next city.\n",
      "Processing kasempa - number 530 of 624....\n",
      "Processing anadyr - number 531 of 624....\n",
      "Processing hualmay - number 532 of 624....\n",
      "Processing san carlos de bariloche - number 533 of 624....\n",
      "Processing axim - number 534 of 624....\n",
      "Processing monchegorsk - number 535 of 624....\n",
      "Processing biltine - number 536 of 624....\n",
      "Processing mandalgovi - number 537 of 624....\n",
      "Processing podgornoye - number 538 of 624....\n",
      "Processing mount isa - number 539 of 624....\n",
      "Processing ixmiquilpan - number 540 of 624....\n",
      "Processing rulenge - number 541 of 624....\n",
      "Processing berlevag - number 542 of 624....\n",
      "Processing sri aman - number 543 of 624....\n",
      "Processing hashtgerd - number 544 of 624....\n",
      "Processing teahupoo - number 545 of 624....\n",
      "Processing cumana - number 546 of 624....\n",
      "Processing biak - number 547 of 624....\n",
      "Processing port shepstone - number 548 of 624....\n",
      "Processing santa marinella - number 549 of 624....\n",
      "Processing maku - number 550 of 624....\n",
      "Processing andros town - number 551 of 624....\n",
      "Processing bafia - number 552 of 624....\n",
      "Processing cozumel - number 553 of 624....\n",
      "Processing miraflores - number 554 of 624....\n",
      "Processing brae - number 555 of 624....\n",
      "Processing taoudenni - number 556 of 624....\n",
      "Processing mitchell - number 557 of 624....\n",
      "Processing tarakan - number 558 of 624....\n",
      "Processing chapais - number 559 of 624....\n",
      "Processing balta - number 560 of 624....\n",
      "Processing narsaq - number 561 of 624....\n",
      "Processing isangel - number 562 of 624....\n",
      "Processing vostok - number 563 of 624....\n",
      "Processing yakeshi - number 564 of 624....\n",
      "Processing coahuayana - number 565 of 624....\n",
      "Processing nishihara - number 566 of 624....\n",
      "Processing pamanukan - number 567 of 624....\n",
      "Processing kolyvan - number 568 of 624....\n",
      "Processing mantua - number 569 of 624....\n",
      "Processing kerrobert - number 570 of 624....\n",
      "Processing luau - number 571 of 624....\n",
      "Processing camacha - number 572 of 624....\n",
      "Processing a - number 573 of 624....\n",
      "Not able to process a. Moving to next city.\n",
      "Processing dalbandin - number 574 of 624....\n",
      "Processing tahara - number 575 of 624....\n",
      "Processing eyl - number 576 of 624....\n",
      "Processing gizo - number 577 of 624....\n",
      "Processing pombas - number 578 of 624....\n",
      "Processing gigante - number 579 of 624....\n",
      "Processing calafell - number 580 of 624....\n",
      "Processing port keats - number 581 of 624....\n",
      "Processing svetlyy - number 582 of 624....\n",
      "Processing marrakesh - number 583 of 624....\n",
      "Processing hoquiam - number 584 of 624....\n",
      "Processing wuda - number 585 of 624....\n",
      "Processing tumannyy - number 586 of 624....\n",
      "Not able to process tumannyy. Moving to next city.\n",
      "Processing kearney - number 587 of 624....\n",
      "Processing kapit - number 588 of 624....\n",
      "Processing aflu - number 589 of 624....\n",
      "Not able to process aflu. Moving to next city.\n",
      "Processing saint-gaudens - number 590 of 624....\n",
      "Processing sorland - number 591 of 624....\n",
      "Processing grand centre - number 592 of 624....\n",
      "Not able to process grand centre. Moving to next city.\n",
      "Processing sakakah - number 593 of 624....\n",
      "Processing ozernovskiy - number 594 of 624....\n",
      "Processing abalak - number 595 of 624....\n",
      "Processing lulea - number 596 of 624....\n",
      "Processing broadford - number 597 of 624....\n",
      "Processing de aar - number 598 of 624....\n",
      "Processing troy - number 599 of 624....\n",
      "Processing klaksvik - number 600 of 624....\n",
      "Processing buriti dos lopes - number 601 of 624....\n",
      "Processing wattegama - number 602 of 624....\n",
      "Processing brigantine - number 603 of 624....\n",
      "Processing smithers - number 604 of 624....\n",
      "Processing saint-francois - number 605 of 624....\n",
      "Processing kieta - number 606 of 624....\n",
      "Processing mongu - number 607 of 624....\n",
      "Processing tambo - number 608 of 624....\n",
      "Processing krasnoselkup - number 609 of 624....\n",
      "Processing volodarka - number 610 of 624....\n",
      "Processing san cristobal - number 611 of 624....\n",
      "Processing tallahassee - number 612 of 624....\n",
      "Processing santa barbara - number 613 of 624....\n",
      "Processing kichera - number 614 of 624....\n",
      "Processing high level - number 615 of 624....\n",
      "Processing la baule-escoublac - number 616 of 624....\n",
      "Processing levin - number 617 of 624....\n",
      "Processing busayra - number 618 of 624....\n",
      "Processing balimo - number 619 of 624....\n",
      "Not able to process balimo. Moving to next city.\n",
      "Processing sheltozero - number 620 of 624....\n",
      "Processing jansath - number 621 of 624....\n",
      "Processing orlik - number 622 of 624....\n",
      "Processing rio gallegos - number 623 of 624....\n",
      "Processing dakar - number 624 of 624....\n",
      "Processed571 of 624 total cities.\n"
     ]
    }
   ],
   "source": [
    "total_cities = len(cities)\n",
    "i = 1\n",
    "\n",
    "\n",
    "print(\"Beginning Weather Data Retrieval\")\n",
    "print(\"--------------------------------\")\n",
    "\n",
    "for city in cities:\n",
    "    try:\n",
    "        print(f\"Processing {city} - number {i} of {total_cities}....\")\n",
    "        i+=1\n",
    "        response = requests.get(query_url + city).json()\n",
    "        city_names.append(response['name'])\n",
    "        country.append(response['sys']['country'])\n",
    "        cloudiness.append(response['clouds']['all'])\n",
    "        date.append(response['dt'])\n",
    "        humidity.append(response['main']['humidity'])\n",
    "        lat.append(response['coord']['lat'])\n",
    "        lng.append(response['coord']['lon'])\n",
    "        temp.append(response['main']['temp_max'])\n",
    "        wind.append(response['wind']['speed'])\n",
    "      \n",
    "        time.sleep(1.02)\n",
    "      \n",
    "    except:\n",
    "       \n",
    "        print(f\"Not able to process {city}. Moving to next city.\")\n",
    "        \n",
    "print(f\"Processed{len(city_names)} of {total_cities} total cities.\")\n",
    "       "
   ]
  },
  {
   "cell_type": "markdown",
   "metadata": {},
   "source": [
    "### Convert Raw Data to DataFrame\n",
    "* Export the city data into a .csv.\n",
    "* Display the DataFrame"
   ]
  },
  {
   "cell_type": "code",
   "execution_count": 6,
   "metadata": {},
   "outputs": [],
   "source": [
    "weather_dict ={\n",
    "    \n",
    "                            \"City\" : city_names,\n",
    "                            \"Country\" : country,\n",
    "                            \"Cloudiness\" : cloudiness,\n",
    "                            \"Date\" : date,\n",
    "                            \"Humidity\" : humidity,\n",
    "                            \"Latitude\" : lat,\n",
    "                            \"Longitude\" : lng,\n",
    "                            \"Max Temp\" : temp,\n",
    "                            \"Wind Speed\" : wind\n",
    "\n",
    "                }\n",
    "\n",
    "\n"
   ]
  },
  {
   "cell_type": "code",
   "execution_count": 7,
   "metadata": {
    "scrolled": true
   },
   "outputs": [
    {
     "data": {
      "text/html": [
       "<div>\n",
       "<style scoped>\n",
       "    .dataframe tbody tr th:only-of-type {\n",
       "        vertical-align: middle;\n",
       "    }\n",
       "\n",
       "    .dataframe tbody tr th {\n",
       "        vertical-align: top;\n",
       "    }\n",
       "\n",
       "    .dataframe thead th {\n",
       "        text-align: right;\n",
       "    }\n",
       "</style>\n",
       "<table border=\"1\" class=\"dataframe\">\n",
       "  <thead>\n",
       "    <tr style=\"text-align: right;\">\n",
       "      <th></th>\n",
       "      <th>City</th>\n",
       "      <th>Country</th>\n",
       "      <th>Cloudiness</th>\n",
       "      <th>Date</th>\n",
       "      <th>Humidity</th>\n",
       "      <th>Latitude</th>\n",
       "      <th>Longitude</th>\n",
       "      <th>Max Temp</th>\n",
       "      <th>Wind Speed</th>\n",
       "    </tr>\n",
       "  </thead>\n",
       "  <tbody>\n",
       "    <tr>\n",
       "      <th>0</th>\n",
       "      <td>Cape Town</td>\n",
       "      <td>ZA</td>\n",
       "      <td>0</td>\n",
       "      <td>1619798116</td>\n",
       "      <td>52</td>\n",
       "      <td>-33.9258</td>\n",
       "      <td>18.4232</td>\n",
       "      <td>64.4</td>\n",
       "      <td>19.57</td>\n",
       "    </tr>\n",
       "    <tr>\n",
       "      <th>1</th>\n",
       "      <td>Hithadhoo</td>\n",
       "      <td>MV</td>\n",
       "      <td>37</td>\n",
       "      <td>1619798682</td>\n",
       "      <td>73</td>\n",
       "      <td>-0.6</td>\n",
       "      <td>73.0833</td>\n",
       "      <td>84.09</td>\n",
       "      <td>7.65</td>\n",
       "    </tr>\n",
       "    <tr>\n",
       "      <th>2</th>\n",
       "      <td>Freeport</td>\n",
       "      <td>US</td>\n",
       "      <td>20</td>\n",
       "      <td>1619798408</td>\n",
       "      <td>42</td>\n",
       "      <td>40.6576</td>\n",
       "      <td>-73.5832</td>\n",
       "      <td>66.99</td>\n",
       "      <td>23.02</td>\n",
       "    </tr>\n",
       "    <tr>\n",
       "      <th>3</th>\n",
       "      <td>Qaanaaq</td>\n",
       "      <td>GL</td>\n",
       "      <td>53</td>\n",
       "      <td>1619798104</td>\n",
       "      <td>64</td>\n",
       "      <td>77.484</td>\n",
       "      <td>-69.3632</td>\n",
       "      <td>32.34</td>\n",
       "      <td>7.07</td>\n",
       "    </tr>\n",
       "    <tr>\n",
       "      <th>4</th>\n",
       "      <td>Talnakh</td>\n",
       "      <td>RU</td>\n",
       "      <td>25</td>\n",
       "      <td>1619798224</td>\n",
       "      <td>84</td>\n",
       "      <td>69.4865</td>\n",
       "      <td>88.3972</td>\n",
       "      <td>19.4</td>\n",
       "      <td>3.38</td>\n",
       "    </tr>\n",
       "    <tr>\n",
       "      <th>...</th>\n",
       "      <td>...</td>\n",
       "      <td>...</td>\n",
       "      <td>...</td>\n",
       "      <td>...</td>\n",
       "      <td>...</td>\n",
       "      <td>...</td>\n",
       "      <td>...</td>\n",
       "      <td>...</td>\n",
       "      <td>...</td>\n",
       "    </tr>\n",
       "    <tr>\n",
       "      <th>566</th>\n",
       "      <td>Sheltozero</td>\n",
       "      <td>RU</td>\n",
       "      <td>99</td>\n",
       "      <td>1619799583</td>\n",
       "      <td>63</td>\n",
       "      <td>61.3667</td>\n",
       "      <td>35.3667</td>\n",
       "      <td>37.83</td>\n",
       "      <td>3.74</td>\n",
       "    </tr>\n",
       "    <tr>\n",
       "      <th>567</th>\n",
       "      <td>Jānsath</td>\n",
       "      <td>IN</td>\n",
       "      <td>56</td>\n",
       "      <td>1619799585</td>\n",
       "      <td>24</td>\n",
       "      <td>29.3333</td>\n",
       "      <td>77.85</td>\n",
       "      <td>87.28</td>\n",
       "      <td>8.34</td>\n",
       "    </tr>\n",
       "    <tr>\n",
       "      <th>568</th>\n",
       "      <td>Orlik</td>\n",
       "      <td>RU</td>\n",
       "      <td>100</td>\n",
       "      <td>1619799586</td>\n",
       "      <td>96</td>\n",
       "      <td>52.5178</td>\n",
       "      <td>99.825</td>\n",
       "      <td>36.57</td>\n",
       "      <td>3.06</td>\n",
       "    </tr>\n",
       "    <tr>\n",
       "      <th>569</th>\n",
       "      <td>Río Gallegos</td>\n",
       "      <td>AR</td>\n",
       "      <td>40</td>\n",
       "      <td>1619799588</td>\n",
       "      <td>87</td>\n",
       "      <td>-51.6226</td>\n",
       "      <td>-69.2181</td>\n",
       "      <td>44.6</td>\n",
       "      <td>9.22</td>\n",
       "    </tr>\n",
       "    <tr>\n",
       "      <th>570</th>\n",
       "      <td>Dakar</td>\n",
       "      <td>SN</td>\n",
       "      <td>0</td>\n",
       "      <td>1619799590</td>\n",
       "      <td>73</td>\n",
       "      <td>14.6937</td>\n",
       "      <td>-17.4441</td>\n",
       "      <td>73.4</td>\n",
       "      <td>18.41</td>\n",
       "    </tr>\n",
       "  </tbody>\n",
       "</table>\n",
       "<p>571 rows × 9 columns</p>\n",
       "</div>"
      ],
      "text/plain": [
       "             City Country Cloudiness        Date Humidity Latitude Longitude  \\\n",
       "0       Cape Town      ZA          0  1619798116       52 -33.9258   18.4232   \n",
       "1       Hithadhoo      MV         37  1619798682       73     -0.6   73.0833   \n",
       "2        Freeport      US         20  1619798408       42  40.6576  -73.5832   \n",
       "3         Qaanaaq      GL         53  1619798104       64   77.484  -69.3632   \n",
       "4         Talnakh      RU         25  1619798224       84  69.4865   88.3972   \n",
       "..            ...     ...        ...         ...      ...      ...       ...   \n",
       "566    Sheltozero      RU         99  1619799583       63  61.3667   35.3667   \n",
       "567       Jānsath      IN         56  1619799585       24  29.3333     77.85   \n",
       "568         Orlik      RU        100  1619799586       96  52.5178    99.825   \n",
       "569  Río Gallegos      AR         40  1619799588       87 -51.6226  -69.2181   \n",
       "570         Dakar      SN          0  1619799590       73  14.6937  -17.4441   \n",
       "\n",
       "    Max Temp Wind Speed  \n",
       "0       64.4      19.57  \n",
       "1      84.09       7.65  \n",
       "2      66.99      23.02  \n",
       "3      32.34       7.07  \n",
       "4       19.4       3.38  \n",
       "..       ...        ...  \n",
       "566    37.83       3.74  \n",
       "567    87.28       8.34  \n",
       "568    36.57       3.06  \n",
       "569     44.6       9.22  \n",
       "570     73.4      18.41  \n",
       "\n",
       "[571 rows x 9 columns]"
      ]
     },
     "execution_count": 7,
     "metadata": {},
     "output_type": "execute_result"
    }
   ],
   "source": [
    "\n",
    "weather_df = pd.DataFrame.from_dict(weather_dict, orient='index')\n",
    "weather_df = weather_df.transpose()\n",
    "#write and save to CSV\n",
    "weather_df.to_csv('city_data.csv', encoding = 'utf-8', index = False)\n",
    "#preview the df\n",
    "weather_df"
   ]
  },
  {
   "cell_type": "code",
   "execution_count": 8,
   "metadata": {},
   "outputs": [
    {
     "data": {
      "text/plain": [
       "City          571\n",
       "Country       571\n",
       "Cloudiness    571\n",
       "Date          571\n",
       "Humidity      571\n",
       "Latitude      571\n",
       "Longitude     571\n",
       "Max Temp      571\n",
       "Wind Speed    571\n",
       "dtype: int64"
      ]
     },
     "execution_count": 8,
     "metadata": {},
     "output_type": "execute_result"
    }
   ],
   "source": [
    "weather_df.count()"
   ]
  },
  {
   "cell_type": "code",
   "execution_count": 9,
   "metadata": {},
   "outputs": [
    {
     "data": {
      "text/html": [
       "<div>\n",
       "<style scoped>\n",
       "    .dataframe tbody tr th:only-of-type {\n",
       "        vertical-align: middle;\n",
       "    }\n",
       "\n",
       "    .dataframe tbody tr th {\n",
       "        vertical-align: top;\n",
       "    }\n",
       "\n",
       "    .dataframe thead th {\n",
       "        text-align: right;\n",
       "    }\n",
       "</style>\n",
       "<table border=\"1\" class=\"dataframe\">\n",
       "  <thead>\n",
       "    <tr style=\"text-align: right;\">\n",
       "      <th></th>\n",
       "      <th>City</th>\n",
       "      <th>Country</th>\n",
       "      <th>Cloudiness</th>\n",
       "      <th>Date</th>\n",
       "      <th>Humidity</th>\n",
       "      <th>Latitude</th>\n",
       "      <th>Longitude</th>\n",
       "      <th>Max Temp</th>\n",
       "      <th>Wind Speed</th>\n",
       "    </tr>\n",
       "  </thead>\n",
       "  <tbody>\n",
       "    <tr>\n",
       "      <th>0</th>\n",
       "      <td>Cape Town</td>\n",
       "      <td>ZA</td>\n",
       "      <td>0</td>\n",
       "      <td>1619798116</td>\n",
       "      <td>52</td>\n",
       "      <td>-33.9258</td>\n",
       "      <td>18.4232</td>\n",
       "      <td>64.40</td>\n",
       "      <td>19.57</td>\n",
       "    </tr>\n",
       "    <tr>\n",
       "      <th>1</th>\n",
       "      <td>Hithadhoo</td>\n",
       "      <td>MV</td>\n",
       "      <td>37</td>\n",
       "      <td>1619798682</td>\n",
       "      <td>73</td>\n",
       "      <td>-0.6000</td>\n",
       "      <td>73.0833</td>\n",
       "      <td>84.09</td>\n",
       "      <td>7.65</td>\n",
       "    </tr>\n",
       "    <tr>\n",
       "      <th>2</th>\n",
       "      <td>Freeport</td>\n",
       "      <td>US</td>\n",
       "      <td>20</td>\n",
       "      <td>1619798408</td>\n",
       "      <td>42</td>\n",
       "      <td>40.6576</td>\n",
       "      <td>-73.5832</td>\n",
       "      <td>66.99</td>\n",
       "      <td>23.02</td>\n",
       "    </tr>\n",
       "    <tr>\n",
       "      <th>3</th>\n",
       "      <td>Qaanaaq</td>\n",
       "      <td>GL</td>\n",
       "      <td>53</td>\n",
       "      <td>1619798104</td>\n",
       "      <td>64</td>\n",
       "      <td>77.4840</td>\n",
       "      <td>-69.3632</td>\n",
       "      <td>32.34</td>\n",
       "      <td>7.07</td>\n",
       "    </tr>\n",
       "    <tr>\n",
       "      <th>4</th>\n",
       "      <td>Talnakh</td>\n",
       "      <td>RU</td>\n",
       "      <td>25</td>\n",
       "      <td>1619798224</td>\n",
       "      <td>84</td>\n",
       "      <td>69.4865</td>\n",
       "      <td>88.3972</td>\n",
       "      <td>19.40</td>\n",
       "      <td>3.38</td>\n",
       "    </tr>\n",
       "    <tr>\n",
       "      <th>...</th>\n",
       "      <td>...</td>\n",
       "      <td>...</td>\n",
       "      <td>...</td>\n",
       "      <td>...</td>\n",
       "      <td>...</td>\n",
       "      <td>...</td>\n",
       "      <td>...</td>\n",
       "      <td>...</td>\n",
       "      <td>...</td>\n",
       "    </tr>\n",
       "    <tr>\n",
       "      <th>566</th>\n",
       "      <td>Sheltozero</td>\n",
       "      <td>RU</td>\n",
       "      <td>99</td>\n",
       "      <td>1619799583</td>\n",
       "      <td>63</td>\n",
       "      <td>61.3667</td>\n",
       "      <td>35.3667</td>\n",
       "      <td>37.83</td>\n",
       "      <td>3.74</td>\n",
       "    </tr>\n",
       "    <tr>\n",
       "      <th>567</th>\n",
       "      <td>Jānsath</td>\n",
       "      <td>IN</td>\n",
       "      <td>56</td>\n",
       "      <td>1619799585</td>\n",
       "      <td>24</td>\n",
       "      <td>29.3333</td>\n",
       "      <td>77.8500</td>\n",
       "      <td>87.28</td>\n",
       "      <td>8.34</td>\n",
       "    </tr>\n",
       "    <tr>\n",
       "      <th>568</th>\n",
       "      <td>Orlik</td>\n",
       "      <td>RU</td>\n",
       "      <td>100</td>\n",
       "      <td>1619799586</td>\n",
       "      <td>96</td>\n",
       "      <td>52.5178</td>\n",
       "      <td>99.8250</td>\n",
       "      <td>36.57</td>\n",
       "      <td>3.06</td>\n",
       "    </tr>\n",
       "    <tr>\n",
       "      <th>569</th>\n",
       "      <td>Río Gallegos</td>\n",
       "      <td>AR</td>\n",
       "      <td>40</td>\n",
       "      <td>1619799588</td>\n",
       "      <td>87</td>\n",
       "      <td>-51.6226</td>\n",
       "      <td>-69.2181</td>\n",
       "      <td>44.60</td>\n",
       "      <td>9.22</td>\n",
       "    </tr>\n",
       "    <tr>\n",
       "      <th>570</th>\n",
       "      <td>Dakar</td>\n",
       "      <td>SN</td>\n",
       "      <td>0</td>\n",
       "      <td>1619799590</td>\n",
       "      <td>73</td>\n",
       "      <td>14.6937</td>\n",
       "      <td>-17.4441</td>\n",
       "      <td>73.40</td>\n",
       "      <td>18.41</td>\n",
       "    </tr>\n",
       "  </tbody>\n",
       "</table>\n",
       "<p>571 rows × 9 columns</p>\n",
       "</div>"
      ],
      "text/plain": [
       "             City Country  Cloudiness        Date  Humidity  Latitude  \\\n",
       "0       Cape Town      ZA           0  1619798116        52  -33.9258   \n",
       "1       Hithadhoo      MV          37  1619798682        73   -0.6000   \n",
       "2        Freeport      US          20  1619798408        42   40.6576   \n",
       "3         Qaanaaq      GL          53  1619798104        64   77.4840   \n",
       "4         Talnakh      RU          25  1619798224        84   69.4865   \n",
       "..            ...     ...         ...         ...       ...       ...   \n",
       "566    Sheltozero      RU          99  1619799583        63   61.3667   \n",
       "567       Jānsath      IN          56  1619799585        24   29.3333   \n",
       "568         Orlik      RU         100  1619799586        96   52.5178   \n",
       "569  Río Gallegos      AR          40  1619799588        87  -51.6226   \n",
       "570         Dakar      SN           0  1619799590        73   14.6937   \n",
       "\n",
       "     Longitude  Max Temp  Wind Speed  \n",
       "0      18.4232     64.40       19.57  \n",
       "1      73.0833     84.09        7.65  \n",
       "2     -73.5832     66.99       23.02  \n",
       "3     -69.3632     32.34        7.07  \n",
       "4      88.3972     19.40        3.38  \n",
       "..         ...       ...         ...  \n",
       "566    35.3667     37.83        3.74  \n",
       "567    77.8500     87.28        8.34  \n",
       "568    99.8250     36.57        3.06  \n",
       "569   -69.2181     44.60        9.22  \n",
       "570   -17.4441     73.40       18.41  \n",
       "\n",
       "[571 rows x 9 columns]"
      ]
     },
     "execution_count": 9,
     "metadata": {},
     "output_type": "execute_result"
    }
   ],
   "source": [
    "nan_value = float(\"NaN\")\n",
    "weather_df.replace(\"\", nan_value, inplace =True)\n",
    "weather_df.dropna(subset = [\"Cloudiness\"], inplace = True)\n",
    "weather_df.dropna(subset = [\"Date\"], inplace = True)\n",
    "weather_df.dropna(subset = [\"City\"], inplace = True)\n",
    "weather_df.dropna(subset = [\"Country\"], inplace = True)\n",
    "weather_df.dropna(subset = [\"Humidity\"], inplace = True)\n",
    "weather_df.dropna(subset = [\"Latitude\"], inplace = True)\n",
    "weather_df.dropna(subset = [\"Longitude\"], inplace = True)\n",
    "weather_df.dropna(subset = [\"Max Temp\"], inplace = True)\n",
    "weather_df.dropna(subset = [\"Wind Speed\"], inplace = True)\n",
    "clean_df = weather_df\n",
    "clean_df"
   ]
  },
  {
   "cell_type": "markdown",
   "metadata": {},
   "source": [
    "## Inspect the data and remove the cities where the humidity > 100%.\n",
    "----\n",
    "Skip this step if there are no cities that have humidity > 100%. "
   ]
  },
  {
   "cell_type": "code",
   "execution_count": 10,
   "metadata": {
    "scrolled": true
   },
   "outputs": [
    {
     "data": {
      "text/html": [
       "<div>\n",
       "<style scoped>\n",
       "    .dataframe tbody tr th:only-of-type {\n",
       "        vertical-align: middle;\n",
       "    }\n",
       "\n",
       "    .dataframe tbody tr th {\n",
       "        vertical-align: top;\n",
       "    }\n",
       "\n",
       "    .dataframe thead th {\n",
       "        text-align: right;\n",
       "    }\n",
       "</style>\n",
       "<table border=\"1\" class=\"dataframe\">\n",
       "  <thead>\n",
       "    <tr style=\"text-align: right;\">\n",
       "      <th></th>\n",
       "      <th>Cloudiness</th>\n",
       "      <th>Date</th>\n",
       "      <th>Humidity</th>\n",
       "      <th>Latitude</th>\n",
       "      <th>Longitude</th>\n",
       "      <th>Max Temp</th>\n",
       "      <th>Wind Speed</th>\n",
       "    </tr>\n",
       "  </thead>\n",
       "  <tbody>\n",
       "    <tr>\n",
       "      <th>count</th>\n",
       "      <td>571.000000</td>\n",
       "      <td>5.710000e+02</td>\n",
       "      <td>571.000000</td>\n",
       "      <td>571.000000</td>\n",
       "      <td>571.000000</td>\n",
       "      <td>571.000000</td>\n",
       "      <td>571.000000</td>\n",
       "    </tr>\n",
       "    <tr>\n",
       "      <th>mean</th>\n",
       "      <td>53.996497</td>\n",
       "      <td>1.619799e+09</td>\n",
       "      <td>66.150613</td>\n",
       "      <td>19.471412</td>\n",
       "      <td>13.479794</td>\n",
       "      <td>63.299282</td>\n",
       "      <td>8.503485</td>\n",
       "    </tr>\n",
       "    <tr>\n",
       "      <th>std</th>\n",
       "      <td>37.844186</td>\n",
       "      <td>3.137043e+02</td>\n",
       "      <td>23.532473</td>\n",
       "      <td>33.724214</td>\n",
       "      <td>92.140737</td>\n",
       "      <td>20.243129</td>\n",
       "      <td>5.786567</td>\n",
       "    </tr>\n",
       "    <tr>\n",
       "      <th>min</th>\n",
       "      <td>0.000000</td>\n",
       "      <td>1.619798e+09</td>\n",
       "      <td>3.000000</td>\n",
       "      <td>-54.800000</td>\n",
       "      <td>-175.200000</td>\n",
       "      <td>-2.360000</td>\n",
       "      <td>0.160000</td>\n",
       "    </tr>\n",
       "    <tr>\n",
       "      <th>25%</th>\n",
       "      <td>15.000000</td>\n",
       "      <td>1.619799e+09</td>\n",
       "      <td>52.500000</td>\n",
       "      <td>-8.840150</td>\n",
       "      <td>-70.133350</td>\n",
       "      <td>48.200000</td>\n",
       "      <td>4.170000</td>\n",
       "    </tr>\n",
       "    <tr>\n",
       "      <th>50%</th>\n",
       "      <td>68.000000</td>\n",
       "      <td>1.619799e+09</td>\n",
       "      <td>71.000000</td>\n",
       "      <td>22.890900</td>\n",
       "      <td>21.286900</td>\n",
       "      <td>67.950000</td>\n",
       "      <td>7.070000</td>\n",
       "    </tr>\n",
       "    <tr>\n",
       "      <th>75%</th>\n",
       "      <td>90.000000</td>\n",
       "      <td>1.619799e+09</td>\n",
       "      <td>83.000000</td>\n",
       "      <td>47.169150</td>\n",
       "      <td>95.724950</td>\n",
       "      <td>78.800000</td>\n",
       "      <td>11.490000</td>\n",
       "    </tr>\n",
       "    <tr>\n",
       "      <th>max</th>\n",
       "      <td>100.000000</td>\n",
       "      <td>1.619800e+09</td>\n",
       "      <td>100.000000</td>\n",
       "      <td>78.218600</td>\n",
       "      <td>179.316700</td>\n",
       "      <td>108.050000</td>\n",
       "      <td>36.820000</td>\n",
       "    </tr>\n",
       "  </tbody>\n",
       "</table>\n",
       "</div>"
      ],
      "text/plain": [
       "       Cloudiness          Date    Humidity    Latitude   Longitude  \\\n",
       "count  571.000000  5.710000e+02  571.000000  571.000000  571.000000   \n",
       "mean    53.996497  1.619799e+09   66.150613   19.471412   13.479794   \n",
       "std     37.844186  3.137043e+02   23.532473   33.724214   92.140737   \n",
       "min      0.000000  1.619798e+09    3.000000  -54.800000 -175.200000   \n",
       "25%     15.000000  1.619799e+09   52.500000   -8.840150  -70.133350   \n",
       "50%     68.000000  1.619799e+09   71.000000   22.890900   21.286900   \n",
       "75%     90.000000  1.619799e+09   83.000000   47.169150   95.724950   \n",
       "max    100.000000  1.619800e+09  100.000000   78.218600  179.316700   \n",
       "\n",
       "         Max Temp  Wind Speed  \n",
       "count  571.000000  571.000000  \n",
       "mean    63.299282    8.503485  \n",
       "std     20.243129    5.786567  \n",
       "min     -2.360000    0.160000  \n",
       "25%     48.200000    4.170000  \n",
       "50%     67.950000    7.070000  \n",
       "75%     78.800000   11.490000  \n",
       "max    108.050000   36.820000  "
      ]
     },
     "execution_count": 10,
     "metadata": {},
     "output_type": "execute_result"
    }
   ],
   "source": [
    "#hum_weather_df = clean_df[clean_df[\"Humidity\"]>100]\n",
    "#hum_weather_df.describe()\n",
    "clean_df.describe()"
   ]
  },
  {
   "cell_type": "code",
   "execution_count": 11,
   "metadata": {},
   "outputs": [
    {
     "data": {
      "text/plain": [
       "Int64Index([], dtype='int64')"
      ]
     },
     "execution_count": 11,
     "metadata": {},
     "output_type": "execute_result"
    }
   ],
   "source": [
    "#  Get the indices of cities that have humidity over 100%.\n",
    "dirtydata = clean_df[(clean_df[\"Humidity\"]>100)].index\n",
    "dirtydata"
   ]
  },
  {
   "cell_type": "code",
   "execution_count": 12,
   "metadata": {},
   "outputs": [
    {
     "data": {
      "text/html": [
       "<div>\n",
       "<style scoped>\n",
       "    .dataframe tbody tr th:only-of-type {\n",
       "        vertical-align: middle;\n",
       "    }\n",
       "\n",
       "    .dataframe tbody tr th {\n",
       "        vertical-align: top;\n",
       "    }\n",
       "\n",
       "    .dataframe thead th {\n",
       "        text-align: right;\n",
       "    }\n",
       "</style>\n",
       "<table border=\"1\" class=\"dataframe\">\n",
       "  <thead>\n",
       "    <tr style=\"text-align: right;\">\n",
       "      <th></th>\n",
       "      <th>City</th>\n",
       "      <th>Country</th>\n",
       "      <th>Cloudiness</th>\n",
       "      <th>Date</th>\n",
       "      <th>Humidity</th>\n",
       "      <th>Latitude</th>\n",
       "      <th>Longitude</th>\n",
       "      <th>Max Temp</th>\n",
       "      <th>Wind Speed</th>\n",
       "    </tr>\n",
       "  </thead>\n",
       "  <tbody>\n",
       "    <tr>\n",
       "      <th>0</th>\n",
       "      <td>Cape Town</td>\n",
       "      <td>ZA</td>\n",
       "      <td>0</td>\n",
       "      <td>1619798116</td>\n",
       "      <td>52</td>\n",
       "      <td>-33.9258</td>\n",
       "      <td>18.4232</td>\n",
       "      <td>64.40</td>\n",
       "      <td>19.57</td>\n",
       "    </tr>\n",
       "    <tr>\n",
       "      <th>1</th>\n",
       "      <td>Hithadhoo</td>\n",
       "      <td>MV</td>\n",
       "      <td>37</td>\n",
       "      <td>1619798682</td>\n",
       "      <td>73</td>\n",
       "      <td>-0.6000</td>\n",
       "      <td>73.0833</td>\n",
       "      <td>84.09</td>\n",
       "      <td>7.65</td>\n",
       "    </tr>\n",
       "    <tr>\n",
       "      <th>2</th>\n",
       "      <td>Freeport</td>\n",
       "      <td>US</td>\n",
       "      <td>20</td>\n",
       "      <td>1619798408</td>\n",
       "      <td>42</td>\n",
       "      <td>40.6576</td>\n",
       "      <td>-73.5832</td>\n",
       "      <td>66.99</td>\n",
       "      <td>23.02</td>\n",
       "    </tr>\n",
       "    <tr>\n",
       "      <th>3</th>\n",
       "      <td>Qaanaaq</td>\n",
       "      <td>GL</td>\n",
       "      <td>53</td>\n",
       "      <td>1619798104</td>\n",
       "      <td>64</td>\n",
       "      <td>77.4840</td>\n",
       "      <td>-69.3632</td>\n",
       "      <td>32.34</td>\n",
       "      <td>7.07</td>\n",
       "    </tr>\n",
       "    <tr>\n",
       "      <th>4</th>\n",
       "      <td>Talnakh</td>\n",
       "      <td>RU</td>\n",
       "      <td>25</td>\n",
       "      <td>1619798224</td>\n",
       "      <td>84</td>\n",
       "      <td>69.4865</td>\n",
       "      <td>88.3972</td>\n",
       "      <td>19.40</td>\n",
       "      <td>3.38</td>\n",
       "    </tr>\n",
       "  </tbody>\n",
       "</table>\n",
       "</div>"
      ],
      "text/plain": [
       "        City Country  Cloudiness        Date  Humidity  Latitude  Longitude  \\\n",
       "0  Cape Town      ZA           0  1619798116        52  -33.9258    18.4232   \n",
       "1  Hithadhoo      MV          37  1619798682        73   -0.6000    73.0833   \n",
       "2   Freeport      US          20  1619798408        42   40.6576   -73.5832   \n",
       "3    Qaanaaq      GL          53  1619798104        64   77.4840   -69.3632   \n",
       "4    Talnakh      RU          25  1619798224        84   69.4865    88.3972   \n",
       "\n",
       "   Max Temp  Wind Speed  \n",
       "0     64.40       19.57  \n",
       "1     84.09        7.65  \n",
       "2     66.99       23.02  \n",
       "3     32.34        7.07  \n",
       "4     19.40        3.38  "
      ]
     },
     "execution_count": 12,
     "metadata": {},
     "output_type": "execute_result"
    }
   ],
   "source": [
    "# Make a new DataFrame equal to the city data to drop all humidity outliers by index.\n",
    "# Passing \"inplace=False\" will make a copy of the city_data DataFrame, which we call \"clean_city_data\".\n",
    "clean_city_data = clean_df.drop(dirtydata, inplace=False)\n",
    "clean_city_data.head()"
   ]
  },
  {
   "cell_type": "markdown",
   "metadata": {},
   "source": [
    "## Plotting the Data\n",
    "* Use proper labeling of the plots using plot titles (including date of analysis) and axes labels.\n",
    "* Save the plotted figures as .pngs."
   ]
  },
  {
   "cell_type": "markdown",
   "metadata": {},
   "source": [
    "## Latitude vs. Temperature Plot"
   ]
  },
  {
   "cell_type": "code",
   "execution_count": 13,
   "metadata": {
    "scrolled": true
   },
   "outputs": [
    {
     "data": {
      "image/png": "[encoded data removed]",
      "text/plain": [
       "<Figure size 432x288 with 1 Axes>"
      ]
     },
     "metadata": {
      "needs_background": "light"
     },
     "output_type": "display_data"
    }
   ],
   "source": [
    "lat = clean_df[\"Latitude\"]\n",
    "temp = clean_df[\"Max Temp\"]\n",
    "\n",
    "plt.scatter(lat, temp, edgecolor=\"black\", linewidths=1, marker=\"o\", alpha=0.8, label=\"cities\")\n",
    "plt.xlabel(\"Latitude\")\n",
    "plt.ylabel(\"Max Temperature(F)\")\n",
    "plt.title(\"Latitude vs Max Temperature\")\n",
    "plt.savefig(\"../WeatherPy/plots.png\")\n",
    "plt.show()"
   ]
  },
  {
   "cell_type": "markdown",
   "metadata": {},
   "source": [
    "## Latitude vs. Humidity Plot"
   ]
  },
  {
   "cell_type": "code",
   "execution_count": 14,
   "metadata": {},
   "outputs": [
    {
     "data": {
      "image/png": "[encoded data removed]",
      "text/plain": [
       "<Figure size 432x288 with 1 Axes>"
      ]
     },
     "metadata": {
      "needs_background": "light"
     },
     "output_type": "display_data"
    }
   ],
   "source": [
    "humi = clean_df[\"Humidity\"]\n",
    "\n",
    "plt.scatter(lat, humi, edgecolor=\"black\", linewidths=1, marker=\"o\", alpha=0.8, label=\"cities\")\n",
    "plt.xlabel(\"Latitude\")\n",
    "plt.ylabel(\"Humidity\")\n",
    "plt.title(\"Latitude vs Humidity\")\n",
    "plt.savefig(\"../WeatherPy/plots.png\")\n",
    "plt.show()"
   ]
  },
  {
   "cell_type": "markdown",
   "metadata": {},
   "source": [
    "## Latitude vs. Cloudiness Plot"
   ]
  },
  {
   "cell_type": "code",
   "execution_count": 15,
   "metadata": {},
   "outputs": [
    {
     "data": {
      "image/png": "[encoded data removed]",
      "text/plain": [
       "<Figure size 432x288 with 1 Axes>"
      ]
     },
     "metadata": {
      "needs_background": "light"
     },
     "output_type": "display_data"
    }
   ],
   "source": [
    "clo = clean_df[\"Cloudiness\"]\n",
    "\n",
    "plt.scatter(lat, clo, edgecolor=\"black\", linewidths=1, marker=\"o\", alpha=0.8, label=\"cities\")\n",
    "plt.xlabel(\"Latitude\")\n",
    "plt.ylabel(\"Cloudiness\")\n",
    "plt.title(\"Latitude vs Cloudiness\")\n",
    "plt.savefig(\"../WeatherPy/plots.png\")\n",
    "plt.show()"
   ]
  },
  {
   "cell_type": "markdown",
   "metadata": {},
   "source": [
    "## Latitude vs. Wind Speed Plot"
   ]
  },
  {
   "cell_type": "code",
   "execution_count": 16,
   "metadata": {},
   "outputs": [
    {
     "data": {
      "image/png": "[encoded data removed]",
      "text/plain": [
       "<Figure size 432x288 with 1 Axes>"
      ]
     },
     "metadata": {
      "needs_background": "light"
     },
     "output_type": "display_data"
    }
   ],
   "source": [
    "wisp = clean_df[\"Wind Speed\"]\n",
    "\n",
    "plt.scatter(lat, wisp, edgecolor=\"black\", linewidths=1, marker=\"o\", alpha=0.8, label=\"cities\")\n",
    "plt.xlabel(\"Latitude\")\n",
    "plt.ylabel(\"Humidity)\")\n",
    "plt.title(\"Latitude vs Wind Speed\")\n",
    "plt.savefig(\"../WeatherPy/plots.png\")\n",
    "plt.show()"
   ]
  },
  {
   "cell_type": "markdown",
   "metadata": {},
   "source": [
    "## Linear Regression"
   ]
  },
  {
   "cell_type": "code",
   "execution_count": 17,
   "metadata": {},
   "outputs": [],
   "source": [
    "def plot_linear_regression(x_values, y_values, title, text_coordinates):\n",
    "    (slope, intercept, rvalue, pvalue, stderr)= linregress(x_values, y_values)\n",
    "    regress_values=x_values*slope+intercept\n",
    "    line_eq=\"y=\"+str(round(slope, 2))+\"x+\"+str(round(intercept, 2))\n",
    "    plt.scatter(x_values, y_values)\n",
    "    plt.plot(x_values, regress_values, \"r-\")\n",
    "    plt.annotate(line_eq, text_coordinates, fontsize=15, color=\"red\")\n",
    "    plt.xlabel('Latitude')\n",
    "    plt.ylabel(title)\n",
    "    print(f\"The r-value is:{rvalue**2}\")\n",
    "    plt.show()"
   ]
  },
  {
   "cell_type": "code",
   "execution_count": 18,
   "metadata": {},
   "outputs": [],
   "source": [
    "northern_hemi_df = clean_df.loc[(clean_df[\"Latitude\"]>=0)]\n",
    "southern_hemi_df = clean_df.loc[(clean_df[\"Latitude\"]<=0)]\n"
   ]
  },
  {
   "cell_type": "markdown",
   "metadata": {},
   "source": [
    "####  Northern Hemisphere - Max Temp vs. Latitude Linear Regression"
   ]
  },
  {
   "cell_type": "code",
   "execution_count": 19,
   "metadata": {},
   "outputs": [
    {
     "name": "stdout",
     "output_type": "stream",
     "text": [
      "The r-value is:0.7420788686927472\n"
     ]
    },
    {
     "data": {
      "image/png": "[encoded data removed]",
      "text/plain": [
       "<Figure size 432x288 with 1 Axes>"
      ]
     },
     "metadata": {
      "needs_background": "light"
     },
     "output_type": "display_data"
    },
    {
     "data": {
      "text/plain": [
       "<Figure size 432x288 with 0 Axes>"
      ]
     },
     "metadata": {},
     "output_type": "display_data"
    }
   ],
   "source": [
    "x_values= northern_hemi_df[\"Latitude\"]\n",
    "y_values= northern_hemi_df[\"Max Temp\"]\n",
    "plot_linear_regression(x_values,y_values, 'Max Temp', (6,30))\n",
    "plt.savefig(\"../WeatherPy/plots.png\")"
   ]
  },
  {
   "cell_type": "markdown",
   "metadata": {},
   "source": [
    "####  Southern Hemisphere - Max Temp vs. Latitude Linear Regression"
   ]
  },
  {
   "cell_type": "code",
   "execution_count": 20,
   "metadata": {},
   "outputs": [
    {
     "name": "stdout",
     "output_type": "stream",
     "text": [
      "The r-value is:0.6232106456389069\n"
     ]
    },
    {
     "data": {
      "image/png": "[encoded data removed]",
      "text/plain": [
       "<Figure size 432x288 with 1 Axes>"
      ]
     },
     "metadata": {
      "needs_background": "light"
     },
     "output_type": "display_data"
    },
    {
     "data": {
      "text/plain": [
       "<Figure size 432x288 with 0 Axes>"
      ]
     },
     "metadata": {},
     "output_type": "display_data"
    }
   ],
   "source": [
    "x_values= southern_hemi_df[\"Latitude\"]\n",
    "y_values= southern_hemi_df[\"Max Temp\"]\n",
    "plot_linear_regression(x_values,y_values, 'Max Temp', (6,30))\n",
    "plt.savefig(\"../WeatherPy/plots.png\")"
   ]
  },
  {
   "cell_type": "markdown",
   "metadata": {},
   "source": [
    "####  Northern Hemisphere - Humidity (%) vs. Latitude Linear Regression"
   ]
  },
  {
   "cell_type": "code",
   "execution_count": 21,
   "metadata": {},
   "outputs": [
    {
     "name": "stdout",
     "output_type": "stream",
     "text": [
      "The r-value is:0.04258131905347996\n"
     ]
    },
    {
     "data": {
      "image/png": "[encoded data removed]",
      "text/plain": [
       "<Figure size 432x288 with 1 Axes>"
      ]
     },
     "metadata": {
      "needs_background": "light"
     },
     "output_type": "display_data"
    },
    {
     "data": {
      "text/plain": [
       "<Figure size 432x288 with 0 Axes>"
      ]
     },
     "metadata": {},
     "output_type": "display_data"
    }
   ],
   "source": [
    "x_values= northern_hemi_df[\"Latitude\"]\n",
    "y_values= northern_hemi_df[\"Humidity\"]\n",
    "plot_linear_regression(x_values,y_values, 'Max Temp', (6,30))\n",
    "plt.savefig(\"../WeatherPy/plots.png\")"
   ]
  },
  {
   "cell_type": "markdown",
   "metadata": {},
   "source": [
    "####  Southern Hemisphere - Humidity (%) vs. Latitude Linear Regression"
   ]
  },
  {
   "cell_type": "code",
   "execution_count": 22,
   "metadata": {},
   "outputs": [
    {
     "name": "stdout",
     "output_type": "stream",
     "text": [
      "The r-value is:0.00919772011645648\n"
     ]
    },
    {
     "data": {
      "image/png": "[encoded data removed]",
      "text/plain": [
       "<Figure size 432x288 with 1 Axes>"
      ]
     },
     "metadata": {
      "needs_background": "light"
     },
     "output_type": "display_data"
    },
    {
     "data": {
      "text/plain": [
       "<Figure size 432x288 with 0 Axes>"
      ]
     },
     "metadata": {},
     "output_type": "display_data"
    }
   ],
   "source": [
    "x_values= southern_hemi_df[\"Latitude\"]\n",
    "y_values= southern_hemi_df[\"Humidity\"]\n",
    "plot_linear_regression(x_values,y_values, 'Max Temp', (6,30))\n",
    "plt.savefig(\"../WeatherPy/plots.png\")"
   ]
  },
  {
   "cell_type": "markdown",
   "metadata": {},
   "source": [
    "####  Northern Hemisphere - Cloudiness (%) vs. Latitude Linear Regression"
   ]
  },
  {
   "cell_type": "code",
   "execution_count": 23,
   "metadata": {},
   "outputs": [
    {
     "name": "stdout",
     "output_type": "stream",
     "text": [
      "The r-value is:0.015665020695971532\n"
     ]
    },
    {
     "data": {
      "image/png": "[encoded data removed]",
      "text/plain": [
       "<Figure size 432x288 with 1 Axes>"
      ]
     },
     "metadata": {
      "needs_background": "light"
     },
     "output_type": "display_data"
    },
    {
     "data": {
      "text/plain": [
       "<Figure size 432x288 with 0 Axes>"
      ]
     },
     "metadata": {},
     "output_type": "display_data"
    }
   ],
   "source": [
    "x_values= northern_hemi_df[\"Latitude\"]\n",
    "y_values= northern_hemi_df[\"Cloudiness\"]\n",
    "plot_linear_regression(x_values,y_values, 'Max Temp', (6,30))\n",
    "plt.savefig(\"../WeatherPy/plots.png\")"
   ]
  },
  {
   "cell_type": "markdown",
   "metadata": {},
   "source": [
    "####  Southern Hemisphere - Cloudiness (%) vs. Latitude Linear Regression"
   ]
  },
  {
   "cell_type": "code",
   "execution_count": 24,
   "metadata": {},
   "outputs": [
    {
     "name": "stdout",
     "output_type": "stream",
     "text": [
      "The r-value is:0.05319231253358006\n"
     ]
    },
    {
     "data": {
      "image/png": "[encoded data removed]",
      "text/plain": [
       "<Figure size 432x288 with 1 Axes>"
      ]
     },
     "metadata": {
      "needs_background": "light"
     },
     "output_type": "display_data"
    },
    {
     "data": {
      "text/plain": [
       "<Figure size 432x288 with 0 Axes>"
      ]
     },
     "metadata": {},
     "output_type": "display_data"
    }
   ],
   "source": [
    "x_values= southern_hemi_df[\"Latitude\"]\n",
    "y_values= southern_hemi_df[\"Cloudiness\"]\n",
    "plot_linear_regression(x_values,y_values, 'Max Temp', (6,30))\n",
    "plt.savefig(\"../WeatherPy/plots.png\")"
   ]
  },
  {
   "cell_type": "markdown",
   "metadata": {},
   "source": [
    "####  Northern Hemisphere - Wind Speed (mph) vs. Latitude Linear Regression"
   ]
  },
  {
   "cell_type": "code",
   "execution_count": 25,
   "metadata": {},
   "outputs": [
    {
     "name": "stdout",
     "output_type": "stream",
     "text": [
      "The r-value is:0.026952057250490904\n"
     ]
    },
    {
     "data": {
      "image/png": "[encoded data removed]",
      "text/plain": [
       "<Figure size 432x288 with 1 Axes>"
      ]
     },
     "metadata": {
      "needs_background": "light"
     },
     "output_type": "display_data"
    },
    {
     "data": {
      "text/plain": [
       "<Figure size 432x288 with 0 Axes>"
      ]
     },
     "metadata": {},
     "output_type": "display_data"
    }
   ],
   "source": [
    "x_values= northern_hemi_df[\"Latitude\"]\n",
    "y_values= northern_hemi_df[\"Wind Speed\"]\n",
    "plot_linear_regression(x_values,y_values, 'Max Temp', (6,30))\n",
    "plt.savefig(\"../WeatherPy/plots.png\")"
   ]
  },
  {
   "cell_type": "markdown",
   "metadata": {},
   "source": [
    "####  Southern Hemisphere - Wind Speed (mph) vs. Latitude Linear Regression"
   ]
  },
  {
   "cell_type": "code",
   "execution_count": 26,
   "metadata": {},
   "outputs": [
    {
     "name": "stdout",
     "output_type": "stream",
     "text": [
      "The r-value is:0.034288695818988225\n"
     ]
    },
    {
     "data": {
      "image/png": "[encoded data removed]",
      "text/plain": [
       "<Figure size 432x288 with 1 Axes>"
      ]
     },
     "metadata": {
      "needs_background": "light"
     },
     "output_type": "display_data"
    },
    {
     "data": {
      "text/plain": [
       "<Figure size 432x288 with 0 Axes>"
      ]
     },
     "metadata": {},
     "output_type": "display_data"
    }
   ],
   "source": [
    "x_values= southern_hemi_df[\"Latitude\"]\n",
    "y_values=southern_hemi_df[\"Wind Speed\"]\n",
    "plot_linear_regression(x_values,y_values, 'Max Temp', (6,30))\n",
    "plt.savefig(\"../WeatherPy/plots.png\")"
   ]
  },
  {
   "cell_type": "code",
   "execution_count": null,
   "metadata": {},
   "outputs": [],
   "source": []
  }
 ],
 "metadata": {
  "anaconda-cloud": {},
  "kernel_info": {
   "name": "python3"
  },
  "kernelspec": {
   "display_name": "Python [conda env:PythonData] *",
   "language": "python",
   "name": "conda-env-PythonData-py"
  },
  "language_info": {
   "codemirror_mode": {
    "name": "ipython",
    "version": 3
   },
   "file_extension": ".py",
   "mimetype": "text/x-python",
   "name": "python",
   "nbconvert_exporter": "python",
   "pygments_lexer": "ipython3",
   "version": "3.6.10"
  },
  "latex_envs": {
   "LaTeX_envs_menu_present": true,
   "autoclose": false,
   "autocomplete": true,
   "bibliofile": "biblio.bib",
   "cite_by": "apalike",
   "current_citInitial": 1,
   "eqLabelWithNumbers": true,
   "eqNumInitial": 1,
   "hotkeys": {
    "equation": "Ctrl-E",
    "itemize": "Ctrl-I"
   },
   "labels_anchors": false,
   "latex_user_defs": false,
   "report_style_numbering": false,
   "user_envs_cfg": false
  },
  "nteract": {
   "version": "0.12.3"
  }
 },
 "nbformat": 4,
 "nbformat_minor": 2
}
